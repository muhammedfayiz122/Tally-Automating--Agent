{
 "cells": [
  {
   "cell_type": "code",
   "execution_count": 4,
   "id": "0a2b4679",
   "metadata": {},
   "outputs": [],
   "source": [
    "import time\n",
    "import pyautogui\n",
    "from pywinauto.application import Application\n",
    "import os"
   ]
  },
  {
   "cell_type": "code",
   "execution_count": 1,
   "id": "811c0345",
   "metadata": {},
   "outputs": [],
   "source": [
    "def write_text(text, delay=1, enter=True):\n",
    "    pyautogui.write(text, interval=0.05)\n",
    "    if enter:\n",
    "        pyautogui.press('enter')\n",
    "    time.sleep(delay)\n",
    "\n",
    "def press_key(key, delay=1):\n",
    "    pyautogui.press(key)\n",
    "    time.sleep(delay)"
   ]
  },
  {
   "cell_type": "code",
   "execution_count": 2,
   "id": "e64b65fc",
   "metadata": {},
   "outputs": [],
   "source": [
    "    def launch_tally_start_menu():\n",
    "        pyautogui.press('win')\n",
    "        time.sleep(1)\n",
    "        pyautogui.write('tally', interval=0.1)\n",
    "        time.sleep(1)\n",
    "        pyautogui.press('enter')\n",
    "        time.sleep(6)  # Wait for Word to open\n",
    "        # Wait until the Tally window is opened\n",
    "        app = None\n",
    "        for _ in range(15):  # Try for up to ~30 seconds\n",
    "            try:\n",
    "                app = Application(backend=\"uia\").connect(title_re=\".*TallyPrime*\", timeout=1)\n",
    "                break\n",
    "            except Exception:\n",
    "                time.sleep(1)\n",
    "        if app is None:\n",
    "            raise RuntimeError(\"Tally window did not open in time.\")\n",
    "        else:\n",
    "            print(\"Tally is opened\")\n",
    "\n",
    "        press_key(\"T\")"
   ]
  },
  {
   "cell_type": "code",
   "execution_count": null,
   "id": "74c1a7ab",
   "metadata": {},
   "outputs": [],
   "source": [
    "# Select company name\n",
    "press_key(\"F3\")\n",
    "write_text(\"hi\")"
   ]
  },
  {
   "cell_type": "code",
   "execution_count": null,
   "id": "1fea5c87",
   "metadata": {},
   "outputs": [],
   "source": [
    "press_key(\"v\")\n",
    "write_text(\"Cash\")"
   ]
  },
  {
   "cell_type": "code",
   "execution_count": 6,
   "id": "e526df03",
   "metadata": {},
   "outputs": [],
   "source": [
    "write_text(\"Cash\")\n",
    "write_text(\"1000\")"
   ]
  }
 ],
 "metadata": {
  "kernelspec": {
   "display_name": "base",
   "language": "python",
   "name": "python3"
  },
  "language_info": {
   "codemirror_mode": {
    "name": "ipython",
    "version": 3
   },
   "file_extension": ".py",
   "mimetype": "text/x-python",
   "name": "python",
   "nbconvert_exporter": "python",
   "pygments_lexer": "ipython3",
   "version": "3.12.7"
  }
 },
 "nbformat": 4,
 "nbformat_minor": 5
}
